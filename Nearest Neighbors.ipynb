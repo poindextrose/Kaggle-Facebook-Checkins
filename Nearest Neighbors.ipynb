{
 "cells": [
  {
   "cell_type": "code",
   "execution_count": 1,
   "metadata": {
    "collapsed": false
   },
   "outputs": [],
   "source": [
    "import pandas as pd\n",
    "from sklearn.neighbors import NearestNeighbors\n",
    "from sklearn.cross_validation import train_test_split\n",
    "from sklearn.metrics import average_precision_score\n",
    "import numpy as np\n",
    "import numexpr as ne"
   ]
  },
  {
   "cell_type": "code",
   "execution_count": 2,
   "metadata": {
    "collapsed": true
   },
   "outputs": [],
   "source": [
    "train = pd.read_csv(\"train.csv\", index_col=\"row_id\").values\n",
    "\n",
    "xy = train[:,0:2]\n",
    "x = train[:,0] # units are kilometers\n",
    "y = train[:,1]\n",
    "accuracy = train[:,2]* 0.001 # assume accuracy is reported in meters so convert to kilometers\n",
    "time = train[:,3] # units are minutes\n",
    "time_of_day = train[:,3] % 1440 # minutes\n",
    "time_of_week = train[:,3] % 10080 # minutes\n",
    "place_id = train[:,4]"
   ]
  },
  {
   "cell_type": "code",
   "execution_count": 3,
   "metadata": {
    "collapsed": false
   },
   "outputs": [
    {
     "name": "stdout",
     "output_type": "stream",
     "text": [
      "CPU times: user 1min 51s, sys: 623 ms, total: 1min 51s\n",
      "Wall time: 1min 51s\n"
     ]
    },
    {
     "data": {
      "text/plain": [
       "NearestNeighbors(algorithm='kd_tree', leaf_size=30, metric='minkowski',\n",
       "         metric_params=None, n_jobs=-1, n_neighbors=5, p=2, radius=1.0)"
      ]
     },
     "execution_count": 3,
     "metadata": {},
     "output_type": "execute_result"
    }
   ],
   "source": [
    "neigh = NearestNeighbors(n_jobs=-1, algorithm='kd_tree')\n",
    "%time neigh.fit(xy, place_id)"
   ]
  },
  {
   "cell_type": "code",
   "execution_count": 4,
   "metadata": {
    "collapsed": true
   },
   "outputs": [],
   "source": [
    "permutation = np.random.permutation(len(xy))"
   ]
  },
  {
   "cell_type": "code",
   "execution_count": 5,
   "metadata": {
    "collapsed": false
   },
   "outputs": [],
   "source": [
    "limit = 400000\n",
    "\n",
    "validation_indicies = permutation[slice(0,min(limit,len(xy)))]\n",
    "\n",
    "X_validation = train[validation_indicies]"
   ]
  },
  {
   "cell_type": "code",
   "execution_count": 6,
   "metadata": {
    "collapsed": false
   },
   "outputs": [],
   "source": [
    "day = 1440\n",
    "hour = 60\n",
    "week = 10080\n",
    "\n",
    "# parameters\n",
    "parameters = { 'kNN': 400, \n",
    "               'a_scale': 1,\n",
    "               'a_min': 1,\n",
    "               'a_bias': 0,\n",
    "               'day_w1': 0,\n",
    "               'day_w2': 12*hour,\n",
    "               'day_mp': 0,\n",
    "               'week_w1': 0,\n",
    "               'week_w2': 3.5*day,\n",
    "               'week_mp': 0,\n",
    "               'time_w1': 20*week,\n",
    "               'time_w2': 50*week,\n",
    "               'time_mp': 1\n",
    "             }\n",
    "\n",
    "def time_difference(time1, time2, period=None):\n",
    "    \"\"\"Find the different in time even if measure is periodic.\"\"\"\n",
    "    if period:\n",
    "        hp = 0.5 * period\n",
    "#         print(\"time1.shape\", time1.shape)\n",
    "#         print(\"time2.shape\", time2.shape)\n",
    "        return ne.evaluate('hp-abs(abs(time1-time2) - hp)')\n",
    "    else:\n",
    "        return ne.evaluate('abs(time1-time2)')\n",
    "\n",
    "def prob_overlap_time(diff, w1, w2, mp):\n",
    "    \"\"\"Compute the probability the the time difference is significant.\"\"\"\n",
    "    # derive equation of line that connects end of w1 and w2\n",
    "    # points: (w1, 1), (w2, mp)\n",
    "    # dy = mp-1, dx = w2-w1, m = (mp-1)/(w2-w1)\n",
    "    # y = m * x + b\n",
    "    # substitude in point 1\n",
    "    # 1 = (mp-1)/(w2-w1) * w1 + b\n",
    "    # solve for b\n",
    "    # b = 1 - (mp-1)/(w2-w1) * w1\n",
    "    # y = (mp-1)/(w2-w1) * x + 1 - (mp-1)/(w2-w1)\n",
    "    prob = ne.evaluate('(mp-1)/(w2-w1) * diff + 1 - (mp-1)/(w2-w1) * w1')\n",
    "    prob = np.where(diff < w1, 1, prob)\n",
    "    return np.where(diff > w2, mp, prob)\n",
    "\n",
    "def uniqify(seq):\n",
    "    \"\"\"Removes duplicates from sequence and maintains order.\"\"\"\n",
    "    seen = set()\n",
    "    seen_add = seen.add\n",
    "    return np.fromiter((x for x in seq if not (x in seen or seen_add(x))), dtype=np.int64)\n",
    "\n",
    "def prob_overlap_locations(x1, y1, x2, y2, accuracy1, accuracy2):\n",
    "    \"\"\"Compute the probability that location measurements represent the same point.\"\"\"\n",
    "    return ne.evaluate('exp(-0.5 * ((x1-x2)**2+(y1-y2)**2) / (accuracy1 ** 2 + accuracy2 ** 2)) / \\\n",
    "                        (accuracy1 ** 2 + accuracy2 ** 2)') # / (2 * np.pi)\n",
    "\n",
    "def sum_by_group(values, groups):\n",
    "    \"\"\"Sum a list of values by groups.\"\"\"\n",
    "    order = np.argsort(groups)\n",
    "    groups = groups[order]\n",
    "    values = values[order]\n",
    "    values.cumsum(out=values)\n",
    "    index = np.ones(len(groups), 'bool')\n",
    "    index[:-1] = groups[1:] != groups[:-1]\n",
    "    values = values[index]\n",
    "    groups = groups[index]\n",
    "    values[1:] = values[1:] - values[:-1]\n",
    "    return values, groups\n",
    "\n",
    "    \n",
    "def predict(X, neighbors, parameters, self_validation=False):\n",
    "    \n",
    "    x_test = X[:,0].reshape((-1,1)) # units are kilometers\n",
    "    y_test = X[:,1].reshape((-1,1)) # units are kilometers\n",
    "    a_test = X[:,2].reshape((-1,1)) * 0.001\n",
    "    time_test = X[:,3].reshape((-1,1))\n",
    "    day_test = X[:,3].reshape((-1,1)) % 1440\n",
    "    week_test = X[:,3].reshape((-1,1)) % 10080\n",
    "    \n",
    "    def scale_accuracy(accuracy):\n",
    "        scale = parameters['a_scale']\n",
    "        bias = parameters['a_bias']\n",
    "        a_min = parameters['a_min']\n",
    "        return np.maximum(accuracy + bias, a_min) * scale\n",
    "\n",
    "    neighbor_accuracies = scale_accuracy(accuracy[neighbors])\n",
    "    test_accuracy = scale_accuracy(a_test)\n",
    "    colocation_prob = prob_overlap_locations(x_test, y_test, x[neighbors], y[neighbors], test_accuracy, neighbor_accuracies)\n",
    "    \n",
    "    time_of_day_diff = time_difference(day_test, time_of_day[neighbors], day)\n",
    "    time_of_day_prob = prob_overlap_time(time_of_day_diff, parameters['day_w1'], parameters['day_w2'],\n",
    "                                         parameters['day_mp'])\n",
    "    \n",
    "    time_of_week_diff = time_difference(week_test, time_of_week[neighbors], week)\n",
    "    time_of_week_prob = prob_overlap_time(time_of_week_diff, parameters['week_w1'], parameters['week_w2'],\n",
    "                                          parameters['week_mp'])\n",
    "    \n",
    "    time_diff = time_difference(time_test, time[neighbors])\n",
    "    time_prob = prob_overlap_time(time_diff, parameters['time_w1'], parameters['time_w2'], parameters['time_mp'])\n",
    "    \n",
    "    total_prob = ne.evaluate('colocation_prob * time_of_day_prob * time_of_week_prob * time_prob')\n",
    "    \n",
    "    s = slice(1,None) if self_validation else slice(0,None) # skip the first neighbor if self validating\n",
    "    predictions = np.zeros((len(X),3))\n",
    "    for i, (prob, places) in enumerate(zip(total_prob[:,s], place_id[neighbors][:,s])):\n",
    "        # append a few zeros just incase there is only one nearby place\n",
    "        # we need three for the precision calculation\n",
    "        prob, places = sum_by_group(np.append(prob, [0,0]), np.append(places, [0,1]))\n",
    "        prob, places = zip(*sorted(zip(prob, places),reverse=True))\n",
    "        predictions[i,:] = places[:3]\n",
    "    return predictions\n",
    "        \n",
    "def mean_average_precision3(true, test):\n",
    "    precision = np.array([1, 1/2, 1/3])\n",
    "    return ne.evaluate('sum((true == test) * precision)') / len(true)"
   ]
  },
  {
   "cell_type": "code",
   "execution_count": 7,
   "metadata": {
    "collapsed": false
   },
   "outputs": [
    {
     "name": "stdout",
     "output_type": "stream",
     "text": [
      "find nearest neighbors\n",
      "CPU times: user 1min 21s, sys: 9.71 s, total: 1min 30s\n",
      "Wall time: 22.6 s\n"
     ]
    }
   ],
   "source": [
    "print(\"find nearest neighbors\")\n",
    "%time neighbors = neigh.kneighbors(X_validation[:,0:2], n_neighbors=parameters['kNN'], \\\n",
    "                                   return_distance=False).astype(np.int32)\n",
    "\n",
    "# del neigh # free up lots of memory"
   ]
  },
  {
   "cell_type": "code",
   "execution_count": 8,
   "metadata": {
    "collapsed": false
   },
   "outputs": [
    {
     "name": "stdout",
     "output_type": "stream",
     "text": [
      "predict\n",
      "CPU times: user 1min 48s, sys: 1min 52s, total: 3min 40s\n",
      "Wall time: 3min 43s\n",
      "evaluate\n",
      "CPU times: user 62.9 ms, sys: 187 ms, total: 250 ms\n",
      "Wall time: 305 ms\n"
     ]
    },
    {
     "data": {
      "text/plain": [
       "0.57452000000021741"
      ]
     },
     "execution_count": 8,
     "metadata": {},
     "output_type": "execute_result"
    }
   ],
   "source": [
    "print(\"predict\")\n",
    "%time predictions = predict(X_validation, neighbors, parameters, self_validation=True)\n",
    "\n",
    "print(\"evaluate\")\n",
    "%time mean_average_precision3(place_id[validation_indicies, None], predictions)"
   ]
  }
 ],
 "metadata": {
  "kernelspec": {
   "display_name": "Python 3",
   "language": "python",
   "name": "python3"
  },
  "language_info": {
   "codemirror_mode": {
    "name": "ipython",
    "version": 3
   },
   "file_extension": ".py",
   "mimetype": "text/x-python",
   "name": "python",
   "nbconvert_exporter": "python",
   "pygments_lexer": "ipython3",
   "version": "3.5.1"
  }
 },
 "nbformat": 4,
 "nbformat_minor": 0
}
