{
 "cells": [
  {
   "cell_type": "code",
   "execution_count": 1,
   "metadata": {
    "collapsed": false
   },
   "outputs": [],
   "source": [
    "import pandas as pd\n",
    "from sklearn.neighbors import NearestNeighbors\n",
    "from sklearn.cross_validation import train_test_split\n",
    "from sklearn.metrics import average_precision_score\n",
    "import numpy as np\n",
    "import numexpr as ne"
   ]
  },
  {
   "cell_type": "code",
   "execution_count": 2,
   "metadata": {
    "collapsed": true
   },
   "outputs": [],
   "source": [
    "train = pd.read_csv(\"train.csv\", index_col=\"row_id\")\n",
    "\n",
    "xy = train.iloc[:,:2].values # units are kilometers\n",
    "accuracy = train.iloc[:,2].values * 0.001 # assume accuracy is reported in meters so convert to kilometers\n",
    "time = train.iloc[:,3].values # units are minutes\n",
    "time_of_day = train.iloc[:,3].values % 1440 # minutes\n",
    "time_of_week = train.iloc[:,3].values % 10080 # minutes\n",
    "place_id = train.iloc[:,4].values"
   ]
  },
  {
   "cell_type": "code",
   "execution_count": 3,
   "metadata": {
    "collapsed": false
   },
   "outputs": [
    {
     "name": "stdout",
     "output_type": "stream",
     "text": [
      "CPU times: user 1min 50s, sys: 718 ms, total: 1min 51s\n",
      "Wall time: 1min 51s\n"
     ]
    },
    {
     "data": {
      "text/plain": [
       "NearestNeighbors(algorithm='kd_tree', leaf_size=30, metric='minkowski',\n",
       "         metric_params=None, n_jobs=-1, n_neighbors=5, p=2, radius=1.0)"
      ]
     },
     "execution_count": 3,
     "metadata": {},
     "output_type": "execute_result"
    }
   ],
   "source": [
    "neigh = NearestNeighbors(n_jobs=-1, algorithm='kd_tree')\n",
    "%time neigh.fit(xy, place_id)"
   ]
  },
  {
   "cell_type": "code",
   "execution_count": 4,
   "metadata": {
    "collapsed": true
   },
   "outputs": [],
   "source": [
    "permutation = np.random.permutation(len(xy))"
   ]
  },
  {
   "cell_type": "code",
   "execution_count": 5,
   "metadata": {
    "collapsed": false
   },
   "outputs": [],
   "source": [
    "limit = 400000\n",
    "\n",
    "validation_indicies = permutation[slice(0,min(limit,len(xy)))]"
   ]
  },
  {
   "cell_type": "code",
   "execution_count": 11,
   "metadata": {
    "collapsed": true
   },
   "outputs": [],
   "source": [
    "day = 1440\n",
    "hour = 60\n",
    "week = 10080\n",
    "\n",
    "# parameters\n",
    "parameters = { 'accuracy' : { 'scale': 1, # 1 assumes unit is meters\n",
    "                              'min': 1,\n",
    "                              'bias': 0\n",
    "                            },\n",
    "               'time': { \n",
    "                         'day': { 'window_max': 0*hour, 'window_not_min': 12*hour, 'min_prob': 0 },\n",
    "                         'week': { 'window_max': 0*day, 'window_not_min': 3.5*day, 'min_prob': 0 },\n",
    "                         'abs': { 'window_max': 20*week, 'window_not_min': 50*week, 'min_prob': 1 }\n",
    "                       },\n",
    "               'kNN': 400\n",
    "             }\n",
    "\n",
    "def time_difference(time1, time2, period=None):\n",
    "    if period:\n",
    "        hp = 0.5 * period\n",
    "        return ne.evaluate('hp-abs(abs(time2-time1) - hp)')\n",
    "    else:\n",
    "        return ne.evaluate('abs(time2-time2)')\n",
    "\n",
    "def prob_overlap_time(diff, params):\n",
    "    w1 = params['window_max']\n",
    "    w2 = params['window_not_min']\n",
    "    mp = params['min_prob']\n",
    "    # derive equation of line that connects end of w1 and w2\n",
    "    # (w1, 1), (w2, mp)\n",
    "    # dy = mp-1, dx = w2-w1, m = (mp-1)/(w2-w1)\n",
    "    # 1 = (mp-1)/(w2-w1) * w1 + b\n",
    "    # b = 1 - (mp-1)/(w2-w1) * w1\n",
    "    # y = (mp-1)/(w2-w1) * x + 1 - (mp-1)/(w2-w1)\n",
    "    prob = ne.evaluate('(mp-1)/(w2-w1) * diff + 1 - (mp-1)/(w2-w1) * w1')\n",
    "    prob = np.where(diff < w1, 1, prob)\n",
    "    return np.where(diff > w2, mp, prob)\n",
    "\n",
    "def uniqify(seq):\n",
    "    seen = set()\n",
    "    seen_add = seen.add\n",
    "    return np.fromiter((x for x in seq if not (x in seen or seen_add(x))), dtype=np.int64)\n",
    "\n",
    "def prob_overlap_locations(dist, accuracy1, accuracy2):\n",
    "    return ne.evaluate('exp(-0.5 * dist * dist / (accuracy1 ** 2 + accuracy2 ** 2)) / \\\n",
    "                        (accuracy1 ** 2 + accuracy2 ** 2)') # / (2 * np.pi)\n",
    "\n",
    "def sum_by_group(values, groups):\n",
    "    order = np.argsort(groups)\n",
    "    groups = groups[order]\n",
    "    values = values[order]\n",
    "    values.cumsum(out=values)\n",
    "    index = np.ones(len(groups), 'bool')\n",
    "    index[:-1] = groups[1:] != groups[:-1]\n",
    "    values = values[index]\n",
    "    groups = groups[index]\n",
    "    values[1:] = values[1:] - values[:-1]\n",
    "    return values, groups\n",
    "\n",
    "def predict_xy_accuracy_time(test_points, distances, neighbors, parameters, self_validation=False):\n",
    "    def scale_accuracy(accuracy):\n",
    "        scale = parameters['accuracy']['scale']\n",
    "        bias = parameters['accuracy']['bias']\n",
    "        a_min = parameters['accuracy']['min']\n",
    "        return np.maximum(accuracy + bias, a_min) * scale\n",
    "    \n",
    "    neighbor_accuracies = scale_accuracy(accuracy[neighbors])\n",
    "    test_accuracy = scale_accuracy(accuracy[test_points, None])\n",
    "    colocation_prob = prob_overlap_locations(distances, test_accuracy, neighbor_accuracies)\n",
    "    \n",
    "    time_of_day_diff = time_difference(time_of_day[test_points, None], time_of_day[neighbors], day)\n",
    "    time_of_day_prob = prob_overlap_time(time_of_day_diff, parameters['time']['day'])\n",
    "    \n",
    "    time_of_week_diff = time_difference(time_of_week[test_points, None], time_of_week[neighbors], week)\n",
    "    time_of_week_prob = prob_overlap_time(time_of_week_diff, parameters['time']['week'])\n",
    "    \n",
    "    time_abs_diff = time_difference(time[test_points, None], time[neighbors])\n",
    "    time_abs_prob = prob_overlap_time(time_abs_diff, parameters['time']['abs'])\n",
    "    \n",
    "    total_prob = ne.evaluate('colocation_prob * time_of_day_prob * time_of_week_prob * time_abs_prob')\n",
    "    \n",
    "    s = slice(1,None) if self_validation else slice(0,None) # skip the first neighbor is self validating\n",
    "    predictions = np.zeros((len(distances),3))\n",
    "    for i, (prob, places) in enumerate(zip(total_prob[:,s], place_id[neighbors][:,s])):\n",
    "        # append a few zeros just incase there is only one nearby place\n",
    "        # we need three for the precision calculation\n",
    "        prob, places = sum_by_group(np.append(prob, [0,0]), np.append(places, [0,1]))\n",
    "        prob, places = zip(*sorted(zip(prob, places),reverse=True))\n",
    "        predictions[i,:] = places[:3]\n",
    "    return predictions\n",
    "        \n",
    "def mean_average_precision3(true, test):\n",
    "    values = np.array([1, 1/2, 1/3])\n",
    "    return ne.evaluate('sum((true == test) * values)') / len(true)"
   ]
  },
  {
   "cell_type": "code",
   "execution_count": 7,
   "metadata": {
    "collapsed": false
   },
   "outputs": [
    {
     "name": "stdout",
     "output_type": "stream",
     "text": [
      "find nearest neighbors\n",
      "CPU times: user 1min 20s, sys: 14.2 s, total: 1min 34s\n",
      "Wall time: 30.3 s\n"
     ]
    }
   ],
   "source": [
    "print(\"find nearest neighbors\")\n",
    "%time distances, neighbors = neigh.kneighbors(xy[validation_indicies], n_neighbors=parameters['kNN'])\n",
    "\n",
    "# del neigh # free up lots of memory"
   ]
  },
  {
   "cell_type": "code",
   "execution_count": 12,
   "metadata": {
    "collapsed": false
   },
   "outputs": [
    {
     "name": "stdout",
     "output_type": "stream",
     "text": [
      "predict\n",
      "CPU times: user 1min 38s, sys: 1min 51s, total: 3min 30s\n",
      "Wall time: 3min 34s\n",
      "evaluate\n",
      "CPU times: user 60.2 ms, sys: 401 ms, total: 461 ms\n",
      "Wall time: 498 ms\n"
     ]
    },
    {
     "data": {
      "text/plain": [
       "0.57452375000021716"
      ]
     },
     "execution_count": 12,
     "metadata": {},
     "output_type": "execute_result"
    }
   ],
   "source": [
    "print(\"predict\")\n",
    "%time predictions = predict_xy_accuracy_time(validation_indicies, distances, neighbors, parameters, \\\n",
    "                                             self_validation=True)\n",
    "\n",
    "print(\"evaluate\")\n",
    "%time mean_average_precision3(place_id[validation_indicies, None], predictions)"
   ]
  },
  {
   "cell_type": "markdown",
   "metadata": {},
   "source": [
    "# parameters\n",
    "\n",
    "* accuracy multiplier\n",
    "* accuracy bias\n",
    "* time window in day for full match\n",
    "* time window in day for least match\n",
    "* fraction of least match time to full match\n",
    "* relative weight of time vs distance metric"
   ]
  }
 ],
 "metadata": {
  "kernelspec": {
   "display_name": "Python 3",
   "language": "python",
   "name": "python3"
  },
  "language_info": {
   "codemirror_mode": {
    "name": "ipython",
    "version": 3
   },
   "file_extension": ".py",
   "mimetype": "text/x-python",
   "name": "python",
   "nbconvert_exporter": "python",
   "pygments_lexer": "ipython3",
   "version": "3.5.1"
  }
 },
 "nbformat": 4,
 "nbformat_minor": 0
}
