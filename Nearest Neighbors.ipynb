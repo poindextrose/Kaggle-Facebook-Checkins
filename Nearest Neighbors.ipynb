{
 "cells": [
  {
   "cell_type": "code",
   "execution_count": 9,
   "metadata": {
    "collapsed": true
   },
   "outputs": [],
   "source": [
    "import pandas as pd\n",
    "from sklearn.neighbors import NearestNeighbors\n",
    "from sklearn.cross_validation import train_test_split\n",
    "from sklearn.metrics import average_precision_score\n",
    "import numpy as np"
   ]
  },
  {
   "cell_type": "code",
   "execution_count": 10,
   "metadata": {
    "collapsed": true
   },
   "outputs": [],
   "source": [
    "df = pd.read_csv(\"train.csv\", index_col=\"row_id\")\n",
    "\n",
    "max_coordinate = 2\n",
    "\n",
    "subset = df.loc[(df.x < max_coordinate) & (df.y < max_coordinate), :]\n",
    "del df\n",
    "\n",
    "xy = subset.iloc[:,:2].values\n",
    "accuracy = subset.iloc[:,2].values\n",
    "time = subset.iloc[:,3].values\n",
    "place_id = subset.iloc[:,4].values"
   ]
  },
  {
   "cell_type": "code",
   "execution_count": 11,
   "metadata": {
    "collapsed": false
   },
   "outputs": [
    {
     "name": "stdout",
     "output_type": "stream",
     "text": [
      "CPU times: user 2.55 s, sys: 22 ms, total: 2.57 s\n",
      "Wall time: 2.57 s\n"
     ]
    },
    {
     "data": {
      "text/plain": [
       "NearestNeighbors(algorithm='auto', leaf_size=30, metric='minkowski',\n",
       "         metric_params=None, n_jobs=-1, n_neighbors=5, p=2, radius=1.0)"
      ]
     },
     "execution_count": 11,
     "metadata": {},
     "output_type": "execute_result"
    }
   ],
   "source": [
    "neigh = NearestNeighbors(n_jobs=-1)\n",
    "%time neigh.fit(xy, place_id)"
   ]
  },
  {
   "cell_type": "code",
   "execution_count": 12,
   "metadata": {
    "collapsed": false
   },
   "outputs": [
    {
     "name": "stdout",
     "output_type": "stream",
     "text": [
      "CPU times: user 1min 3s, sys: 5.6 s, total: 1min 9s\n",
      "Wall time: 17.6 s\n"
     ]
    }
   ],
   "source": [
    "%time all_distances, all_neighbor_indicies = neigh.kneighbors(xy, n_neighbors=100)"
   ]
  },
  {
   "cell_type": "code",
   "execution_count": 37,
   "metadata": {
    "collapsed": false
   },
   "outputs": [
    {
     "name": "stdout",
     "output_type": "stream",
     "text": [
      "CPU times: user 961 ms, sys: 22.1 ms, total: 983 ms\n",
      "Wall time: 986 ms\n"
     ]
    }
   ],
   "source": [
    "def uniqify(seq):\n",
    "    seen = set()\n",
    "    seen_add = seen.add\n",
    "    return np.fromiter((x for x in seq if not (x in seen or seen_add(x))), dtype=np.int64)\n",
    "\n",
    "def prob_overlap_locations(dist, accuracy1, accuracy2):\n",
    "    inv_sumsq = 1 / (np.square(accuracy1) + np.square(accuracy2))\n",
    "    # if in the end the final result is a product then the 2 * np.pi constant can be removed\n",
    "    return np.exp(-0.5 * np.square(dist) * inv_sumsq) * inv_sumsq / (2 * np.pi)\n",
    "\n",
    "def sum_by_group(values, groups):\n",
    "    order = np.argsort(groups)\n",
    "    groups = groups[order]\n",
    "    values = values[order]\n",
    "    values.cumsum(out=values)\n",
    "    index = np.ones(len(groups), 'bool')\n",
    "    index[:-1] = groups[1:] != groups[:-1]\n",
    "    values = values[index]\n",
    "    groups = groups[index]\n",
    "    values[1:] = values[1:] - values[:-1]\n",
    "    return values, groups\n",
    "\n",
    "# assume accuracy is meters\n",
    "accuracy_scale = 0.001\n",
    "\n",
    "def predict_xy_accuracy(distances, neighbor_indicies):\n",
    "    neighbor_accuracies = accuracy[neighbor_indicies] * accuracy_scale\n",
    "    test_point_accuracy = accuracy[slice(0,len(neighbor_accuracies)), None] * accuracy_scale\n",
    "    neighbor_place_id = place_id[neighbor_indicies]\n",
    "    colocation_prob = prob_overlap_locations(distances, test_point_accuracy, neighbor_accuracies)\n",
    "    s = slice(1,None) if distances[0][0] == 0 else slice(0,None) # skip the first neighbor which will be itself\n",
    "    predictions = np.zeros((len(distances),3))\n",
    "    for i, (prob, places) in enumerate(zip(colocation_prob[:,s], neighbor_place_id[:,s])):\n",
    "        prob, places = sum_by_group(np.append(prob, [0,0]), np.append(places, [0,0]))\n",
    "        prob, places = zip(*sorted(zip(prob, places),reverse=True))\n",
    "        predictions[i,:] = places[:3]\n",
    "    return predictions\n",
    "\n",
    "def predict_xy_accuracy_time():\n",
    "    pass\n",
    "        \n",
    "limit = 10000\n",
    "slice_predictions = slice(0,min(limit+1,len(all_distances)))\n",
    "%time predictions = predict_xy_accuracy(all_distances[slice_predictions], all_neighbor_indicies[slice_predictions])"
   ]
  },
  {
   "cell_type": "code",
   "execution_count": 38,
   "metadata": {
    "collapsed": false
   },
   "outputs": [
    {
     "name": "stdout",
     "output_type": "stream",
     "text": [
      "CPU times: user 1.09 ms, sys: 681 µs, total: 1.77 ms\n",
      "Wall time: 868 µs\n"
     ]
    },
    {
     "data": {
      "text/plain": [
       "0.54184581541845811"
      ]
     },
     "execution_count": 38,
     "metadata": {},
     "output_type": "execute_result"
    }
   ],
   "source": [
    "def mean_average_precision3(true, test):\n",
    "    return np.average(np.sum((true == test) * np.array([1, 1/2, 1/3]), axis=1))\n",
    "\n",
    "%time mean_average_precision3(place_id[slice(0,len(predictions)), None], predictions)"
   ]
  },
  {
   "cell_type": "markdown",
   "metadata": {},
   "source": [
    "# parameters\n",
    "\n",
    "* accuracy multiplier\n",
    "* accuracy bias\n",
    "* time window in day for full match\n",
    "* time window in day for least match\n",
    "* fraction of least match time to full match\n",
    "* relative weight of time vs distance metric"
   ]
  }
 ],
 "metadata": {
  "kernelspec": {
   "display_name": "Python 3",
   "language": "python",
   "name": "python3"
  },
  "language_info": {
   "codemirror_mode": {
    "name": "ipython",
    "version": 3
   },
   "file_extension": ".py",
   "mimetype": "text/x-python",
   "name": "python",
   "nbconvert_exporter": "python",
   "pygments_lexer": "ipython3",
   "version": "3.5.1"
  }
 },
 "nbformat": 4,
 "nbformat_minor": 0
}
