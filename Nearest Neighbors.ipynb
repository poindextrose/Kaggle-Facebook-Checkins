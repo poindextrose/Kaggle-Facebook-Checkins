{
 "cells": [
  {
   "cell_type": "code",
   "execution_count": 1,
   "metadata": {
    "collapsed": false
   },
   "outputs": [],
   "source": [
    "import pandas as pd\n",
    "from sklearn.neighbors import NearestNeighbors\n",
    "from sklearn.cross_validation import train_test_split\n",
    "from sklearn.metrics import average_precision_score\n",
    "import numpy as np\n",
    "import numexpr as ne"
   ]
  },
  {
   "cell_type": "code",
   "execution_count": 2,
   "metadata": {
    "collapsed": true
   },
   "outputs": [],
   "source": [
    "train = pd.read_csv(\"train.csv\", index_col=\"row_id\")\n",
    "\n",
    "xy = train.iloc[:,:2].values # units are kilometers\n",
    "accuracy = train.iloc[:,2].values * 0.001 # assume accuracy is reported in meters so convert to kilometers\n",
    "time = train.iloc[:,3].values # units are minutes\n",
    "time_of_day = train.iloc[:,3].values % 1440 # minutes\n",
    "time_of_week = train.iloc[:,3].values % 10080 # minutes\n",
    "place_id = train.iloc[:,4].values"
   ]
  },
  {
   "cell_type": "code",
   "execution_count": 3,
   "metadata": {
    "collapsed": false
   },
   "outputs": [
    {
     "name": "stdout",
     "output_type": "stream",
     "text": [
      "CPU times: user 3min 20s, sys: 3.55 s, total: 3min 23s\n",
      "Wall time: 3min 32s\n"
     ]
    },
    {
     "data": {
      "text/plain": [
       "NearestNeighbors(algorithm='kd_tree', leaf_size=30, metric='minkowski',\n",
       "         metric_params=None, n_jobs=-1, n_neighbors=5, p=2, radius=1.0)"
      ]
     },
     "execution_count": 3,
     "metadata": {},
     "output_type": "execute_result"
    }
   ],
   "source": [
    "neigh = NearestNeighbors(n_jobs=-1, algorithm='kd_tree')\n",
    "%time neigh.fit(xy, place_id)"
   ]
  },
  {
   "cell_type": "code",
   "execution_count": 4,
   "metadata": {
    "collapsed": true
   },
   "outputs": [],
   "source": [
    "permutation = np.random.permutation(len(xy))"
   ]
  },
  {
   "cell_type": "code",
   "execution_count": 5,
   "metadata": {
    "collapsed": false
   },
   "outputs": [],
   "source": [
    "limit = 400000\n",
    "\n",
    "validation_indicies = permutation[slice(0,min(limit,len(xy)))]"
   ]
  },
  {
   "cell_type": "code",
   "execution_count": 39,
   "metadata": {
    "collapsed": false
   },
   "outputs": [],
   "source": [
    "# from sklearn.base import BaseEstimator\n",
    "\n",
    "# class FacebookCheckins(BaseEstimator):\n",
    "    \n",
    "#     def __init__(self, X_all, y_all, kNN=400, a_scale=1, a_min=1, x=0, day_w1=0, day_w2=720, day_min=0, \\\n",
    "#                  week_w1=0, week_w2=5040, week_min=0, time_w1=201600, time_w2=504000, time_min=1, n_jobs=-1):\n",
    "#         self.X = X\n",
    "#         self.y = y\n",
    "#         self.place_id = place_id\n",
    "#         self.kNN = kNN\n",
    "#         self.a_scale = a_scale\n",
    "#         self.a_min = a_min\n",
    "#         self.x = x\n",
    "#         self.day_w1 = day_w1\n",
    "#         self.day_w2 = day_w2\n",
    "#         self.day_min = day_min\n",
    "#         self.week_w1 = week_w1\n",
    "#         self.week_w2 = week_w2\n",
    "#         self.week_min = week_min\n",
    "#         self.time_w1 = time_w1\n",
    "#         self.time_w2 = time_w2\n",
    "#         self.time_min = time_min\n",
    "#         self.n_jobs = n_jobs\n",
    "        \n",
    "#         self.nearest_neighbors_clf = NearestNeighbors(n_jobs=self.n_jobs, algorithm='kd_tree')\n",
    "        \n",
    "#         self.n_neighbors = None\n",
    "        \n",
    "#         self.distances = None\n",
    "#         self.neighbors = None\n",
    "        \n",
    "#     def fit(self, X, y):\n",
    "#         if not self.nearest_neighbors_clf:\n",
    "#             print(\"creating NN classifier\")\n",
    "#         if self.X != X or self.y != y:\n",
    "#             print(\"fitting NN classifier\")\n",
    "#             self.X = X\n",
    "#             self.Y = y\n",
    "#             self.nearest_neighbors_clf.fit(X[:2], y)\n",
    "#         if self.distances = None or self.neighbors = None or self.n_neighbors != self.kNN:\n",
    "#             self.distances, self.neighbors = self.nearest_neighbors_clf.kneighbors(X)\n",
    "\n",
    "day = 1440\n",
    "hour = 60\n",
    "week = 10080\n",
    "\n",
    "# parameters\n",
    "parameters = { 'kNN': 400, \n",
    "               'accuracy' : { 'scale': 1, # 1 assumes unit is meters\n",
    "                              'min': 1,\n",
    "                              'bias': 0\n",
    "                            },\n",
    "               'time': { \n",
    "                         'day': { 'window_max': 0*hour, 'window_submax': 12*hour, 'min_prob': 0 },\n",
    "                         'week': { 'window_max': 0*day, 'window_submax': 3.5*day, 'min_prob': 0 },\n",
    "                         'abs': { 'window_max': 20*week, 'window_submax': 50*week, 'min_prob': 1 }\n",
    "                       },\n",
    "             }\n",
    "\n",
    "def time_difference(time1, time2, period=None):\n",
    "    \"\"\"Find the different in time even if measure is periodic.\"\"\"\n",
    "    if period:\n",
    "        hp = 0.5 * period\n",
    "        return ne.evaluate('hp-abs(abs(time1-time2) - hp)')\n",
    "    else:\n",
    "        return ne.evaluate('abs(time1-time2)')\n",
    "\n",
    "def prob_overlap_time(diff, params):\n",
    "    \"\"\"Compute the probability the the time difference is significant.\"\"\"\n",
    "    w1 = params['window_max']\n",
    "    w2 = params['window_submax']\n",
    "    mp = params['min_prob']\n",
    "    # derive equation of line that connects end of w1 and w2\n",
    "    # points: (w1, 1), (w2, mp)\n",
    "    # dy = mp-1, dx = w2-w1, m = (mp-1)/(w2-w1)\n",
    "    # y = m * x + b\n",
    "    # substitude in point 1\n",
    "    # 1 = (mp-1)/(w2-w1) * w1 + b\n",
    "    # solve for b\n",
    "    # b = 1 - (mp-1)/(w2-w1) * w1\n",
    "    # y = (mp-1)/(w2-w1) * x + 1 - (mp-1)/(w2-w1)\n",
    "    prob = ne.evaluate('(mp-1)/(w2-w1) * diff + 1 - (mp-1)/(w2-w1) * w1')\n",
    "    prob = np.where(diff < w1, 1, prob)\n",
    "    return np.where(diff > w2, mp, prob)\n",
    "\n",
    "def uniqify(seq):\n",
    "    \"\"\"Removes duplicates from sequence and maintains order.\"\"\"\n",
    "    seen = set()\n",
    "    seen_add = seen.add\n",
    "    return np.fromiter((x for x in seq if not (x in seen or seen_add(x))), dtype=np.int64)\n",
    "\n",
    "def prob_overlap_locations(x1, y1, x2, y2, accuracy1, accuracy2):\n",
    "    \"\"\"Compute the probability that location measurements represent the same point.\"\"\"\n",
    "#     dist2 = np.sum(ne.evaluate('(xy1-xy2)**2'), axis=-1)\n",
    "    return ne.evaluate('exp(-0.5 * ((x1-x2)**2+(y1-y2)**2) / (accuracy1 ** 2 + accuracy2 ** 2)) / \\\n",
    "                        (accuracy1 ** 2 + accuracy2 ** 2)') # / (2 * np.pi)\n",
    "\n",
    "def sum_by_group(values, groups):\n",
    "    \"\"\"Sum a list of values by groups.\"\"\"\n",
    "    order = np.argsort(groups)\n",
    "    groups = groups[order]\n",
    "    values = values[order]\n",
    "    values.cumsum(out=values)\n",
    "    index = np.ones(len(groups), 'bool')\n",
    "    index[:-1] = groups[1:] != groups[:-1]\n",
    "    values = values[index]\n",
    "    groups = groups[index]\n",
    "    values[1:] = values[1:] - values[:-1]\n",
    "    return values, groups\n",
    "\n",
    "def scale_accuracy(accuracy, params):\n",
    "    scale = params['scale']\n",
    "    bias = params['bias']\n",
    "    a_min = params['min']\n",
    "    return np.maximum(accuracy + bias, a_min) * scale\n",
    "    \n",
    "def predict_xy_accuracy_time(test_points, neighbors, parameters, self_validation=False):\n",
    "    \n",
    "    neighbor_accuracies = scale_accuracy(accuracy[neighbors], parameters['accuracy'])\n",
    "    test_accuracy = scale_accuracy(accuracy[test_points, None], parameters['accuracy'])\n",
    "    colocation_prob = prob_overlap_locations(xy[test_points, 0, None], xy[test_points, 1, None], \\\n",
    "                                             xy[neighbors, 0], xy[neighbors, 1], test_accuracy, neighbor_accuracies)\n",
    "    \n",
    "    time_of_day_diff = time_difference(time_of_day[test_points, None], time_of_day[neighbors], day)\n",
    "    time_of_day_prob = prob_overlap_time(time_of_day_diff, parameters['time']['day'])\n",
    "    \n",
    "    time_of_week_diff = time_difference(time_of_week[test_points, None], time_of_week[neighbors], week)\n",
    "    time_of_week_prob = prob_overlap_time(time_of_week_diff, parameters['time']['week'])\n",
    "    \n",
    "    time_abs_diff = time_difference(time[test_points, None], time[neighbors])\n",
    "    time_abs_prob = prob_overlap_time(time_abs_diff, parameters['time']['abs'])\n",
    "    \n",
    "    total_prob = ne.evaluate('colocation_prob * time_of_day_prob * time_of_week_prob * time_abs_prob')\n",
    "    \n",
    "    s = slice(1,None) if self_validation else slice(0,None) # skip the first neighbor if self validating\n",
    "    predictions = np.zeros((len(distances),3))\n",
    "    for i, (prob, places) in enumerate(zip(total_prob[:,s], place_id[neighbors][:,s])):\n",
    "        # append a few zeros just incase there is only one nearby place\n",
    "        # we need three for the precision calculation\n",
    "        prob, places = sum_by_group(np.append(prob, [0,0]), np.append(places, [0,1]))\n",
    "        prob, places = zip(*sorted(zip(prob, places),reverse=True))\n",
    "        predictions[i,:] = places[:3]\n",
    "    return predictions\n",
    "        \n",
    "def mean_average_precision3(true, test):\n",
    "    precision = np.array([1, 1/2, 1/3])\n",
    "    return ne.evaluate('sum((true == test) * precision)') / len(true)"
   ]
  },
  {
   "cell_type": "code",
   "execution_count": 7,
   "metadata": {
    "collapsed": false
   },
   "outputs": [
    {
     "name": "stdout",
     "output_type": "stream",
     "text": [
      "find nearest neighbors\n",
      "CPU times: user 1min 39s, sys: 21.6 s, total: 2min 1s\n",
      "Wall time: 48.7 s\n"
     ]
    }
   ],
   "source": [
    "print(\"find nearest neighbors\")\n",
    "%time neighbors = neigh.kneighbors(xy[validation_indicies], n_neighbors=parameters['kNN'], \\\n",
    "                                   return_distance=False).astype(np.int32)\n",
    "\n",
    "# del neigh # free up lots of memory"
   ]
  },
  {
   "cell_type": "code",
   "execution_count": 40,
   "metadata": {
    "collapsed": false
   },
   "outputs": [
    {
     "name": "stdout",
     "output_type": "stream",
     "text": [
      "predict\n",
      "CPU times: user 1min 50s, sys: 2min 10s, total: 4min 1s\n",
      "Wall time: 3min 59s\n",
      "evaluate\n",
      "CPU times: user 64.9 ms, sys: 408 ms, total: 473 ms\n",
      "Wall time: 541 ms\n"
     ]
    },
    {
     "data": {
      "text/plain": [
       "0.57425750000021858"
      ]
     },
     "execution_count": 40,
     "metadata": {},
     "output_type": "execute_result"
    }
   ],
   "source": [
    "print(\"predict\")\n",
    "%time predictions = predict_xy_accuracy_time(validation_indicies, neighbors, parameters, \\\n",
    "                                             self_validation=True)\n",
    "\n",
    "print(\"evaluate\")\n",
    "%time mean_average_precision3(place_id[validation_indicies, None], predictions)"
   ]
  },
  {
   "cell_type": "code",
   "execution_count": 44,
   "metadata": {
    "collapsed": false
   },
   "outputs": [
    {
     "data": {
      "text/plain": [
       "[{'a': 1}, {'a': 2}, {'a': 3}]"
      ]
     },
     "execution_count": 44,
     "metadata": {},
     "output_type": "execute_result"
    }
   ],
   "source": [
    "from sklearn.grid_search import ParameterSampler\n",
    "\n",
    "params = {'a': eval('[1,2,3]')}\n",
    "\n",
    "list(ParameterSampler(params, n_iter=3))"
   ]
  }
 ],
 "metadata": {
  "kernelspec": {
   "display_name": "Python 3",
   "language": "python",
   "name": "python3"
  },
  "language_info": {
   "codemirror_mode": {
    "name": "ipython",
    "version": 3
   },
   "file_extension": ".py",
   "mimetype": "text/x-python",
   "name": "python",
   "nbconvert_exporter": "python",
   "pygments_lexer": "ipython3",
   "version": "3.5.1"
  }
 },
 "nbformat": 4,
 "nbformat_minor": 0
}
