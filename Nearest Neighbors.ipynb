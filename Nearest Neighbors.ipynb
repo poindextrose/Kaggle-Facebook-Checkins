{
 "cells": [
  {
   "cell_type": "code",
   "execution_count": 1,
   "metadata": {
    "collapsed": true
   },
   "outputs": [],
   "source": [
    "import pandas as pd\n",
    "from sklearn.neighbors import NearestNeighbors\n",
    "from sklearn.cross_validation import train_test_split\n",
    "import numpy as np"
   ]
  },
  {
   "cell_type": "code",
   "execution_count": 2,
   "metadata": {
    "collapsed": true
   },
   "outputs": [],
   "source": [
    "df = pd.read_csv(\"train.csv\", index_col=\"row_id\")\n",
    "\n",
    "max_coordinate = 2\n",
    "\n",
    "subset = df.loc[(df.x < max_coordinate) & (df.y < max_coordinate), :]\n",
    "del df"
   ]
  },
  {
   "cell_type": "code",
   "execution_count": 3,
   "metadata": {
    "collapsed": false
   },
   "outputs": [],
   "source": [
    "X = subset.iloc[:, :-1].values # remove place_id label\n",
    "y = np.squeeze(subset.iloc[:, -1:].values) # extract place_id label\n",
    "\n",
    "X_train, X_test, y_train, y_test = train_test_split(X, y, test_size=0.20, random_state=42)\n",
    "\n",
    "def split_X(m): # split data matrix with x&y columns and into a matrix with accuracy and time columns\n",
    "    return m[:,:2], m[:,2:]\n",
    "\n",
    "X_train_xy, X_train_ac = split_X(X_train)\n",
    "X_test_xy, X_test_ac = split_X(X_test)"
   ]
  },
  {
   "cell_type": "code",
   "execution_count": 4,
   "metadata": {
    "collapsed": false
   },
   "outputs": [
    {
     "name": "stdout",
     "output_type": "stream",
     "text": [
      "CPU times: user 2.09 s, sys: 19.3 ms, total: 2.11 s\n",
      "Wall time: 2.12 s\n"
     ]
    },
    {
     "data": {
      "text/plain": [
       "NearestNeighbors(algorithm='auto', leaf_size=30, metric='minkowski',\n",
       "         metric_params=None, n_jobs=-1, n_neighbors=5, p=2, radius=1.0)"
      ]
     },
     "execution_count": 4,
     "metadata": {},
     "output_type": "execute_result"
    }
   ],
   "source": [
    "neigh = NearestNeighbors(n_jobs=-1)\n",
    "%time neigh.fit(X_train_xy, y_train)"
   ]
  },
  {
   "cell_type": "code",
   "execution_count": 11,
   "metadata": {
    "collapsed": false
   },
   "outputs": [
    {
     "name": "stdout",
     "output_type": "stream",
     "text": [
      "CPU times: user 9.9 s, sys: 591 ms, total: 10.5 s\n",
      "Wall time: 3.25 s\n"
     ]
    }
   ],
   "source": [
    "%time distances, neighbor_indicies = neigh.kneighbors(X_test_xy, n_neighbors=50)"
   ]
  },
  {
   "cell_type": "code",
   "execution_count": 85,
   "metadata": {
    "collapsed": false
   },
   "outputs": [
    {
     "name": "stdout",
     "output_type": "stream",
     "text": [
      "CPU times: user 235 ms, sys: 13.1 ms, total: 248 ms\n",
      "Wall time: 247 ms\n"
     ]
    },
    {
     "data": {
      "text/plain": [
       "[array([5356564080, 5356564080, 2055909431]),\n",
       " array([1304193568, 3884608029, 4982492326]),\n",
       " array([8624673382, 9551909561, 9551909561]),\n",
       " array([3380753307, 9649118066, 9649118066]),\n",
       " array([8180961305, 7677441016, 8180961305])]"
      ]
     },
     "execution_count": 85,
     "metadata": {},
     "output_type": "execute_result"
    }
   ],
   "source": [
    "# create predictions\n",
    "def predict():\n",
    "    return [y_train[i[:3]] for i in neighbor_indicies]\n",
    "        \n",
    "%time predictions = predict()\n",
    "predictions[:5]"
   ]
  },
  {
   "cell_type": "code",
   "execution_count": 74,
   "metadata": {
    "collapsed": false
   },
   "outputs": [
    {
     "data": {
      "text/plain": [
       "array([8518596442, 1218151301, 9551909561, 9649118066, 1285016904])"
      ]
     },
     "execution_count": 74,
     "metadata": {},
     "output_type": "execute_result"
    }
   ],
   "source": [
    "y_test[:5]"
   ]
  },
  {
   "cell_type": "code",
   "execution_count": 68,
   "metadata": {
    "collapsed": false
   },
   "outputs": [
    {
     "data": {
      "text/plain": [
       "array([8518596442, 1218151301, 9551909561, 9649118066, 1285016904])"
      ]
     },
     "execution_count": 68,
     "metadata": {},
     "output_type": "execute_result"
    }
   ],
   "source": [
    "def mean_average_precision3(y_true, y_test):\n",
    "    "
   ]
  }
 ],
 "metadata": {
  "kernelspec": {
   "display_name": "Python 3",
   "language": "python",
   "name": "python3"
  },
  "language_info": {
   "codemirror_mode": {
    "name": "ipython",
    "version": 3
   },
   "file_extension": ".py",
   "mimetype": "text/x-python",
   "name": "python",
   "nbconvert_exporter": "python",
   "pygments_lexer": "ipython3",
   "version": "3.5.1"
  }
 },
 "nbformat": 4,
 "nbformat_minor": 0
}
