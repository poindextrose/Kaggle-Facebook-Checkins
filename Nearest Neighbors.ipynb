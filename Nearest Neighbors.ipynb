{
 "cells": [
  {
   "cell_type": "code",
   "execution_count": 1,
   "metadata": {
    "collapsed": false
   },
   "outputs": [],
   "source": [
    "import pandas as pd\n",
    "from sklearn.neighbors import NearestNeighbors\n",
    "from sklearn.cross_validation import train_test_split\n",
    "from sklearn.metrics import average_precision_score\n",
    "import numpy as np\n",
    "import numexpr as ne"
   ]
  },
  {
   "cell_type": "code",
   "execution_count": 2,
   "metadata": {
    "collapsed": true
   },
   "outputs": [],
   "source": [
    "train = pd.read_csv(\"train.csv\", index_col=\"row_id\")\n",
    "\n",
    "xy = train.iloc[:,:2].values # units are kilometers\n",
    "accuracy = train.iloc[:,2].values * 0.001 # assume accuracy is reported in meters so convert to kilometers\n",
    "time = train.iloc[:,3].values # units are minutes\n",
    "time_of_day = train.iloc[:,3].values % 1440 # minutes\n",
    "time_of_week = train.iloc[:,3].values % 10080 # minutes\n",
    "place_id = train.iloc[:,4].values"
   ]
  },
  {
   "cell_type": "code",
   "execution_count": 3,
   "metadata": {
    "collapsed": false
   },
   "outputs": [
    {
     "name": "stdout",
     "output_type": "stream",
     "text": [
      "CPU times: user 1min 51s, sys: 931 ms, total: 1min 52s\n",
      "Wall time: 1min 52s\n"
     ]
    },
    {
     "data": {
      "text/plain": [
       "NearestNeighbors(algorithm='kd_tree', leaf_size=30, metric='minkowski',\n",
       "         metric_params=None, n_jobs=-1, n_neighbors=5, p=2, radius=1.0)"
      ]
     },
     "execution_count": 3,
     "metadata": {},
     "output_type": "execute_result"
    }
   ],
   "source": [
    "neigh = NearestNeighbors(n_jobs=-1, algorithm='kd_tree')\n",
    "%time neigh.fit(xy, place_id)"
   ]
  },
  {
   "cell_type": "code",
   "execution_count": 4,
   "metadata": {
    "collapsed": true
   },
   "outputs": [],
   "source": [
    "permutation = np.random.permutation(len(xy))"
   ]
  },
  {
   "cell_type": "code",
   "execution_count": 5,
   "metadata": {
    "collapsed": false
   },
   "outputs": [],
   "source": [
    "limit = 400000\n",
    "\n",
    "validation_indicies = permutation[slice(0,min(limit,len(xy)))]"
   ]
  },
  {
   "cell_type": "code",
   "execution_count": 6,
   "metadata": {
    "collapsed": true
   },
   "outputs": [],
   "source": [
    "day_period = 1440\n",
    "week_period = 10080\n",
    "\n",
    "# parameters\n",
    "accuracy_scale = 1 # 1 assumes accuracy is reported in meters\n",
    "accuracy_min = 0 # meters\n",
    "accuracy_bias = 0 # meters\n",
    "time_of_day_max_prob_diff = 0\n",
    "time_of_day_min_prob = 0\n",
    "time_of_week_max_prob_diff = week_period/7\n",
    "time_of_week_min_prob = 0.1\n",
    "time_abs_max_prob_diff = week_period * 26 # 6-months\n",
    "time_abs_min_prob_diff = week_period * 52 # 12-months\n",
    "time_abs_min_prob = 0.1\n",
    "\n",
    "def time_difference(time1, time2, half_period):\n",
    "    return ne.evaluate('half_period-abs(abs(time2-time1) - half_period)')\n",
    "\n",
    "def prob_time_for_period(time1, time2, period, max_prob_diff, min_prob):\n",
    "    hp = 0.5 * period\n",
    "    diff = time_difference(time1, time2, hp)\n",
    "    w = max_prob_diff\n",
    "    #  (hp, 0), (w, 1)\n",
    "    #  dy = 1, dx = w-hp\n",
    "    #   y = x /(w-hp) + b\n",
    "    #   0 = hp/(w-hp) + b\n",
    "    #   b = -hp/(w-hp) = -1/(w/hp-1) = 1/(1-w/hp)\n",
    "    #   y = x/(w-hp) + 1/(1-w/hp)\n",
    "    prob = ne.evaluate('diff * 1/(w-hp) + 1/(1-w/hp)')\n",
    "    prob = np.where(diff < max_prob_diff, 1, prob)\n",
    "    return np.maximum(prob, min_prob)\n",
    "\n",
    "def prob_time_diff(time1, time2):\n",
    "    w1 = time_abs_max_prob_diff\n",
    "    w2 = time_abs_min_prob_diff\n",
    "    mp = time_abs_min_prob\n",
    "    diff = np.abs(time1-time2)\n",
    "    # (w1, 1), (w2, mp)\n",
    "    # dy = mp-1, dx = w2-w1, m = (mp-1)/(w2-w1)\n",
    "    # 1 = (mp-1)/(w2-w1) * w1 + b\n",
    "    # b = 1 - (mp-1)/(w2-w1) * w1\n",
    "    # y = (mp-1)/(w2-w1) * x + 1 - (mp-1)/(w2-w1)\n",
    "    prob = ne.evaluate('(mp-1)/(w2-w1) * diff + 1 - (mp-1)/(w2-w1)')\n",
    "    prob = np.where(diff < w1, 1, prob)\n",
    "    return np.where(diff > w2, mp, prob)\n",
    "\n",
    "def uniqify(seq):\n",
    "    seen = set()\n",
    "    seen_add = seen.add\n",
    "    return np.fromiter((x for x in seq if not (x in seen or seen_add(x))), dtype=np.int64)\n",
    "\n",
    "def prob_overlap_locations(dist, accuracy1, accuracy2):\n",
    "    return ne.evaluate('exp(-0.5 * dist * dist / (accuracy1 ** 2 + accuracy2 ** 2)) / \\\n",
    "                        (accuracy1 ** 2 + accuracy2 ** 2)') # / (2 * np.pi)\n",
    "\n",
    "def sum_by_group(values, groups):\n",
    "    order = np.argsort(groups)\n",
    "    groups = groups[order]\n",
    "    values = values[order]\n",
    "    values.cumsum(out=values)\n",
    "    index = np.ones(len(groups), 'bool')\n",
    "    index[:-1] = groups[1:] != groups[:-1]\n",
    "    values = values[index]\n",
    "    groups = groups[index]\n",
    "    values[1:] = values[1:] - values[:-1]\n",
    "    return values, groups\n",
    "\n",
    "def predict_xy_accuracy_time(test_points, distances, neighbors, self_validation=False):\n",
    "    \n",
    "    def scale_accuracy(accuracy):\n",
    "        return np.maximum(accuracy + accuracy_bias, accuracy_min) * accuracy_scale\n",
    "    neighbor_accuracies = scale_accuracy(accuracy[neighbors])\n",
    "    test_accuracy = scale_accuracy(accuracy[test_points, None])\n",
    "    colocation_prob = prob_overlap_locations(distances, test_accuracy, neighbor_accuracies)\n",
    "    \n",
    "    time_of_day_prob = prob_time_for_period(time_of_day[test_points, None], time_of_day[neighbors], \\\n",
    "                                            day_period, time_of_day_max_prob_diff, time_of_day_min_prob)\n",
    "    time_of_week_prob = prob_time_for_period(time_of_day[test_points, None], time_of_day[neighbors], \\\n",
    "                                             week_period, time_of_week_max_prob_diff, time_of_week_min_prob)\n",
    "    time_abs_prob = prob_time_diff(time[test_points, None], time[neighbors])\n",
    "    \n",
    "    total_prob = ne.evaluate('colocation_prob * time_of_day_prob * time_of_week_prob * time_abs_prob')\n",
    "    \n",
    "    s = slice(1,None) if self_validation else slice(0,None) # skip the first neighbor is self validating\n",
    "    predictions = np.zeros((len(distances),3))\n",
    "    for i, (prob, places) in enumerate(zip(total_prob[:,s], place_id[neighbors][:,s])):\n",
    "        # append a few zeros just incase there is only one nearby place\n",
    "        # we need three for the precision calculation\n",
    "        prob, places = sum_by_group(np.append(prob, [0,0]), np.append(places, [0,1]))\n",
    "        prob, places = zip(*sorted(zip(prob, places),reverse=True))\n",
    "        predictions[i,:] = places[:3]\n",
    "    return predictions\n",
    "        \n",
    "def mean_average_precision3(true, test):\n",
    "    values = np.array([1, 1/2, 1/3])\n",
    "    return ne.evaluate('sum((true == test) * values)') / len(true)"
   ]
  },
  {
   "cell_type": "code",
   "execution_count": 7,
   "metadata": {
    "collapsed": false
   },
   "outputs": [
    {
     "name": "stdout",
     "output_type": "stream",
     "text": [
      "find nearest neighbors\n",
      "CPU times: user 1min 18s, sys: 11.2 s, total: 1min 29s\n",
      "Wall time: 26.9 s\n"
     ]
    }
   ],
   "source": [
    "print(\"find nearest neighbors\")\n",
    "%time distances, neighbors = neigh.kneighbors(xy[validation_indicies], n_neighbors=400)\n",
    "\n",
    "# del neigh # free up lots of memory"
   ]
  },
  {
   "cell_type": "code",
   "execution_count": 10,
   "metadata": {
    "collapsed": false
   },
   "outputs": [
    {
     "name": "stdout",
     "output_type": "stream",
     "text": [
      "predict\n",
      "CPU times: user 1min 43s, sys: 1min 38s, total: 3min 22s\n",
      "Wall time: 3min 20s\n",
      "evaluate\n",
      "CPU times: user 59 ms, sys: 420 ms, total: 479 ms\n",
      "Wall time: 891 ms\n"
     ]
    },
    {
     "data": {
      "text/plain": [
       "0.57287333333354773"
      ]
     },
     "execution_count": 10,
     "metadata": {},
     "output_type": "execute_result"
    }
   ],
   "source": [
    "print(\"predict\")\n",
    "%time predictions = predict_xy_accuracy_time(validation_indicies, distances, neighbors, self_validation=True)\n",
    "\n",
    "print(\"evaluate\")\n",
    "%time mean_average_precision3(place_id[validation_indicies, None], predictions)"
   ]
  },
  {
   "cell_type": "code",
   "execution_count": 9,
   "metadata": {
    "collapsed": true
   },
   "outputs": [],
   "source": [
    "def batch_kneighbors(indicies, batch_size = 10):\n",
    "    distances = []\n",
    "    neighbors = []\n",
    "    for i, batch in enumerate(np.split(indicies, batch_size)):\n",
    "        print(\"batch {}, neighbors\".format(i))\n",
    "        d, n = neigh.kneighbors(xy[batch], n_neighbors=400)\n",
    "        distances.append(d)\n",
    "        neighbors.append(n)\n",
    "    return np.array(distances).reshape((len(indicies),-1)), np.array(neighbors).reshape((len(indicies),-1))\n",
    "\n",
    "# %time distances, neighbors = batch_kneighbors(validation_indicies, 20)"
   ]
  },
  {
   "cell_type": "markdown",
   "metadata": {},
   "source": [
    "100-NN\n",
    "\n",
    "10k   .56245\n",
    "20k   .56590 .00345\n",
    "40k   .56674 .00084\n",
    "80k   .56489 .00185\n",
    "160k  .56626 .00137\n",
    "320k  .56594 .00032\n",
    "640k  .56600 .00006\n",
    "1280k .56582 .00018\n",
    "2560k .56622 .00040\n",
    "\n",
    "200-NN\n",
    "\n",
    "10k   .56620\n",
    "20k   .57058 .00438\n",
    "40k   .57209 .00151\n",
    "80k   .57021 .00188\n",
    "160k  .57116 .00095\n",
    "320k  .57082 .00034\n",
    "640k  .57072 .00010\n",
    "1280k .57061 .00011\n",
    "\n",
    "400-NN\n",
    "\n",
    "10k   .56042\n",
    "20k   .56524 .00482\n",
    "40k   .56731 .00207\n",
    "80k   .56527 .00204\n",
    "160k  .56579 .00052\n",
    "320k  .56575 .00004\n",
    "640k  .56709 .00134\n",
    "1280k .56557 .00152\n",
    "2560k .activ"
   ]
  },
  {
   "cell_type": "markdown",
   "metadata": {},
   "source": [
    "# parameters\n",
    "\n",
    "* accuracy multiplier\n",
    "* accuracy bias\n",
    "* time window in day for full match\n",
    "* time window in day for least match\n",
    "* fraction of least match time to full match\n",
    "* relative weight of time vs distance metric"
   ]
  }
 ],
 "metadata": {
  "kernelspec": {
   "display_name": "Python 3",
   "language": "python",
   "name": "python3"
  },
  "language_info": {
   "codemirror_mode": {
    "name": "ipython",
    "version": 3
   },
   "file_extension": ".py",
   "mimetype": "text/x-python",
   "name": "python",
   "nbconvert_exporter": "python",
   "pygments_lexer": "ipython3",
   "version": "3.5.1"
  }
 },
 "nbformat": 4,
 "nbformat_minor": 0
}
