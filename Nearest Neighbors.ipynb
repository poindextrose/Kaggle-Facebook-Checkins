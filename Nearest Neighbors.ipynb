{
 "cells": [
  {
   "cell_type": "code",
   "execution_count": 66,
   "metadata": {
    "collapsed": false
   },
   "outputs": [
    {
     "data": {
      "text/plain": [
       "8"
      ]
     },
     "execution_count": 66,
     "metadata": {},
     "output_type": "execute_result"
    }
   ],
   "source": [
    "import pandas as pd\n",
    "from sklearn.neighbors import NearestNeighbors\n",
    "from sklearn.cross_validation import train_test_split\n",
    "from sklearn.metrics import average_precision_score\n",
    "import numpy as np\n",
    "import numexpr as ne\n",
    "ne.set_num_threads(8)"
   ]
  },
  {
   "cell_type": "code",
   "execution_count": 2,
   "metadata": {
    "collapsed": true
   },
   "outputs": [],
   "source": [
    "df = pd.read_csv(\"train.csv\", index_col=\"row_id\")\n",
    "\n",
    "xy = df.iloc[:,:2].values\n",
    "accuracy = df.iloc[:,2].values\n",
    "time = df.iloc[:,3].values % 1440 # convert to minutes of the day\n",
    "place_id = df.iloc[:,4].values"
   ]
  },
  {
   "cell_type": "code",
   "execution_count": 3,
   "metadata": {
    "collapsed": false
   },
   "outputs": [
    {
     "name": "stdout",
     "output_type": "stream",
     "text": [
      "CPU times: user 1min 56s, sys: 1.22 s, total: 1min 57s\n",
      "Wall time: 1min 57s\n"
     ]
    },
    {
     "data": {
      "text/plain": [
       "NearestNeighbors(algorithm='kd_tree', leaf_size=30, metric='minkowski',\n",
       "         metric_params=None, n_jobs=-1, n_neighbors=5, p=2, radius=1.0)"
      ]
     },
     "execution_count": 3,
     "metadata": {},
     "output_type": "execute_result"
    }
   ],
   "source": [
    "neigh = NearestNeighbors(n_jobs=-1, algorithm='kd_tree', leaf_size=30)\n",
    "%time neigh.fit(xy, place_id)"
   ]
  },
  {
   "cell_type": "code",
   "execution_count": 104,
   "metadata": {
    "collapsed": false
   },
   "outputs": [
    {
     "name": "stdout",
     "output_type": "stream",
     "text": [
      "find nearest neighbors\n",
      "CPU times: user 25.6 s, sys: 3.26 s, total: 28.9 s\n",
      "Wall time: 6.3 s\n"
     ]
    }
   ],
   "source": [
    "limit = 400000\n",
    "\n",
    "subset_indicies = np.random.permutation(len(xy))[:limit]\n",
    "\n",
    "xy_subset = xy[subset_indicies]\n",
    "accuracy_subset = accuracy[subset_indicies, None]\n",
    "time_subset = time[subset_indicies, None]\n",
    "place_id_subset = place_id[subset_indicies, None]\n",
    "\n",
    "print(\"find nearest neighbors\")\n",
    "%time distances_subset, neighbor_indicies_subset = neigh.kneighbors(xy_subset, n_neighbors=100)"
   ]
  },
  {
   "cell_type": "code",
   "execution_count": 105,
   "metadata": {
    "collapsed": false
   },
   "outputs": [
    {
     "name": "stdout",
     "output_type": "stream",
     "text": [
      "predict\n",
      "CPU times: user 40.9 s, sys: 6.24 s, total: 47.1 s\n",
      "Wall time: 42.9 s\n",
      "evaluate\n",
      "CPU times: user 14.4 ms, sys: 6.85 ms, total: 21.3 ms\n",
      "Wall time: 21.4 ms\n"
     ]
    },
    {
     "data": {
      "text/plain": [
       "0.56473166666687025"
      ]
     },
     "execution_count": 105,
     "metadata": {},
     "output_type": "execute_result"
    }
   ],
   "source": [
    "# assume accuracy is meters\n",
    "accuracy_scale = 0.001\n",
    "\n",
    "def time_difference(time1, time2, period=1440):\n",
    "    return ne.evaluate('period/2-abs(abs(time2-time1) - period/2)')\n",
    "\n",
    "def prob_overlap_time(time1, time2, period=1440):\n",
    "    return ne.evaluate('1 - 2*(period/2-abs(abs(time2-time1) - period/2))/period')\n",
    "\n",
    "def uniqify(seq):\n",
    "    seen = set()\n",
    "    seen_add = seen.add\n",
    "    return np.fromiter((x for x in seq if not (x in seen or seen_add(x))), dtype=np.int64)\n",
    "\n",
    "def prob_overlap_locations(dist, accuracy1, accuracy2):\n",
    "    return ne.evaluate('exp(-0.5 * dist * dist / (accuracy1 ** 2 + accuracy2 ** 2)) / \\\n",
    "                        (accuracy1 ** 2 + accuracy2 ** 2)') # / (2 * np.pi)\n",
    "\n",
    "def sum_by_group(values, groups):\n",
    "    order = np.argsort(groups)\n",
    "    groups = groups[order]\n",
    "    values = values[order]\n",
    "    values.cumsum(out=values)\n",
    "    index = np.ones(len(groups), 'bool')\n",
    "    index[:-1] = groups[1:] != groups[:-1]\n",
    "    values = values[index]\n",
    "    groups = groups[index]\n",
    "    values[1:] = values[1:] - values[:-1]\n",
    "    return values, groups\n",
    "\n",
    "def predict_xy_accuracy_time(distances, neighbor_indicies):\n",
    "    neighbor_accuracies = accuracy[neighbor_indicies] * accuracy_scale\n",
    "    test_accuracy = accuracy_subset * accuracy_scale\n",
    "    neighbor_place_id = place_id[neighbor_indicies]\n",
    "    colocation_prob = prob_overlap_locations(distances, test_accuracy, neighbor_accuracies)\n",
    "    \n",
    "    neighbor_time = time[neighbor_indicies]\n",
    "    time_prob = prob_overlap_time(time_subset, neighbor_time)\n",
    "    \n",
    "    total_prob = ne.evaluate('colocation_prob * time_prob')\n",
    "    \n",
    "    # TODO: remove the following line for real data just in case a duplicate point is tested\n",
    "    s = slice(1,None) if distances[0][0] == 0 else slice(0,None) # skip the first neighbor which will be itself\n",
    "    predictions = np.zeros((len(distances),3))\n",
    "    for i, (prob, places) in enumerate(zip(total_prob[:,s], neighbor_place_id[:,s])):\n",
    "        # append a few zeros just incase there is only one nearby place\n",
    "        # we need three for the precision calculation\n",
    "        prob, places = sum_by_group(np.append(prob, [0,0]), np.append(places, [0,1]))\n",
    "        prob, places = zip(*sorted(zip(prob, places),reverse=True))\n",
    "        predictions[i,:] = places[:3]\n",
    "    return predictions\n",
    "        \n",
    "def mean_average_precision3(true, test):\n",
    "    values = np.array([1, 1/2, 1/3])\n",
    "    return ne.evaluate('sum((true == test) * values)') / len(true)\n",
    "\n",
    "print(\"predict\")\n",
    "%time predictions = predict_xy_accuracy_time(distances_subset, neighbor_indicies_subset)\n",
    "\n",
    "print(\"evaluate\")\n",
    "%time mean_average_precision3(place_id_subset, predictions)"
   ]
  },
  {
   "cell_type": "markdown",
   "metadata": {},
   "source": [
    "# parameters\n",
    "\n",
    "* accuracy multiplier\n",
    "* accuracy bias\n",
    "* time window in day for full match\n",
    "* time window in day for least match\n",
    "* fraction of least match time to full match\n",
    "* relative weight of time vs distance metric"
   ]
  }
 ],
 "metadata": {
  "kernelspec": {
   "display_name": "Python 3",
   "language": "python",
   "name": "python3"
  },
  "language_info": {
   "codemirror_mode": {
    "name": "ipython",
    "version": 3
   },
   "file_extension": ".py",
   "mimetype": "text/x-python",
   "name": "python",
   "nbconvert_exporter": "python",
   "pygments_lexer": "ipython3",
   "version": "3.5.1"
  }
 },
 "nbformat": 4,
 "nbformat_minor": 0
}
