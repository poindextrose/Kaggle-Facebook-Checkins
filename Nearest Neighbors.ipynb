{
 "cells": [
  {
   "cell_type": "code",
   "execution_count": 1,
   "metadata": {
    "collapsed": false
   },
   "outputs": [],
   "source": [
    "import pandas as pd\n",
    "from sklearn.neighbors import NearestNeighbors\n",
    "from sklearn.cross_validation import train_test_split\n",
    "from sklearn.metrics import average_precision_score\n",
    "import numpy as np\n",
    "import numexpr as ne\n",
    "from sklearn.base import BaseEstimator, ClassifierMixin"
   ]
  },
  {
   "cell_type": "code",
   "execution_count": 2,
   "metadata": {
    "collapsed": true
   },
   "outputs": [],
   "source": [
    "train = pd.read_csv(\"train.csv\", index_col=\"row_id\").values"
   ]
  },
  {
   "cell_type": "code",
   "execution_count": 7,
   "metadata": {
    "collapsed": false
   },
   "outputs": [],
   "source": [
    "limit = 400000\n",
    "\n",
    "permutation = np.random.permutation(len(train))\n",
    "test_indicies = permutation[slice(0,min(limit,len(permutation)))]\n",
    "\n",
    "test = train[test_indicies]\n",
    "X_test = test[:,0:4]\n",
    "y_test = test[:,4]"
   ]
  },
  {
   "cell_type": "code",
   "execution_count": 10,
   "metadata": {
    "collapsed": false
   },
   "outputs": [],
   "source": [
    "day = 1440\n",
    "hour = 60\n",
    "week = 10080\n",
    "\n",
    "class FacebookCheckins(BaseEstimator, ClassifierMixin):\n",
    "    \n",
    "    def __init__(self, train, kNN=400, a_scale=1, a_min=1, a_bias=0, time_model='proximity',\n",
    "                 day_w1=0, day_w2=12*hour, day_mp=0,\n",
    "                 week_w1=0, week_w2=3.5*day, week_mp=0,\n",
    "                 time_w1=20*week, time_w2=50*week, time_mp=1):\n",
    "        \n",
    "        self.train = train\n",
    "        self.x = train[:,0] # kilometers\n",
    "        self.y = train[:,1] # kilometers\n",
    "        self.accuracy = train[:,2] * 0.001 # convert meters to kilometers\n",
    "        self.time = train[:,3] # units are minutes\n",
    "        self.time_of_day = train[:,3] % 1440 # minutes\n",
    "        self.time_of_week = train[:,3] % 10080 # minutes\n",
    "        self.place_id = train[:,4]\n",
    "        self.kNN = kNN\n",
    "        self.a_scale = a_scale\n",
    "        self.a_min = a_min\n",
    "        self.a_bias = a_bias\n",
    "        self.time_model = time_model\n",
    "        self.day_w1 = day_w1\n",
    "        self.day_w2 = day_w2\n",
    "        self.day_mp = day_mp\n",
    "        self.week_w1 = week_w1\n",
    "        self.week_w2 = week_w2\n",
    "        self.week_mp = week_mp\n",
    "        self.time_w1 = time_w1\n",
    "        self.time_w2 = time_w2\n",
    "        self.time_mp = time_mp\n",
    "        \n",
    "        # values to cache to prevent duplicating work on successive calls to fit()\n",
    "        self.NN = None\n",
    "        self.neighbors = None\n",
    "        self.X_test = None\n",
    "        self.y_test = None\n",
    "        \n",
    "    def time_difference(self, time1, time2, period=None):\n",
    "        \"\"\"Find the different in time even if measure is periodic.\"\"\"\n",
    "        if period:\n",
    "            hp = 0.5 * period\n",
    "            return ne.evaluate('hp-abs(abs(time1-time2) - hp)')\n",
    "        else:\n",
    "            return ne.evaluate('abs(time1-time2)')\n",
    "\n",
    "    def prob_overlap_time(self, diff, w1, w2, mp):\n",
    "        \"\"\"Compute the probability the the time difference is significant.\"\"\"\n",
    "        # derive equation of line that connects end of w1 and w2\n",
    "        # points: (w1, 1), (w2, mp)\n",
    "        # dy = mp-1, dx = w2-w1, m = (mp-1)/(w2-w1)\n",
    "        # y = m * x + b\n",
    "        # substitude in point 1\n",
    "        # 1 = (mp-1)/(w2-w1) * w1 + b\n",
    "        # solve for b\n",
    "        # b = 1 - (mp-1)/(w2-w1) * w1\n",
    "        # y = (mp-1)/(w2-w1) * x + 1 - (mp-1)/(w2-w1)\n",
    "        prob = ne.evaluate('(mp-1)/(w2-w1) * diff + 1 - (mp-1)/(w2-w1) * w1')\n",
    "        prob = np.where(diff < w1, 1, prob)\n",
    "        return np.where(diff > w2, mp, prob)\n",
    "\n",
    "    def prob_overlap_locations(self, x1, y1, x2, y2, accuracy1, accuracy2):\n",
    "        \"\"\"Compute the probability that location measurements represent the same point.\"\"\"\n",
    "        return ne.evaluate('exp(-0.5 * ((x1-x2)**2+(y1-y2)**2) / (accuracy1 ** 2 + accuracy2 ** 2)) / \\\n",
    "                            (accuracy1 ** 2 + accuracy2 ** 2)') # / (2 * np.pi)\n",
    "\n",
    "    def sum_by_group(self, values, groups):\n",
    "        \"\"\"Sum a list of values by groups.\"\"\"\n",
    "        order = np.argsort(groups)\n",
    "        groups = groups[order]\n",
    "        values = values[order]\n",
    "        values.cumsum(out=values)\n",
    "        index = np.ones(len(groups), 'bool')\n",
    "        index[:-1] = groups[1:] != groups[:-1]\n",
    "        values = values[index]\n",
    "        groups = groups[index]\n",
    "        values[1:] = values[1:] - values[:-1]\n",
    "        return values, groups\n",
    "\n",
    "\n",
    "    def predict_internal(self, X, neighbors, self_validation=False):\n",
    "\n",
    "        x_test = X[:,0].reshape((-1,1)) # units are kilometers\n",
    "        y_test = X[:,1].reshape((-1,1)) # units are kilometers\n",
    "        a_test = X[:,2].reshape((-1,1)) * 0.001\n",
    "        time_test = X[:,3].reshape((-1,1))\n",
    "        day_test = X[:,3].reshape((-1,1)) % 1440\n",
    "        week_test = X[:,3].reshape((-1,1)) % 10080\n",
    "\n",
    "        def scale_accuracy(accuracy):\n",
    "            scale = self.a_scale\n",
    "            bias = self.a_bias\n",
    "            a_min = self.a_min\n",
    "            return np.maximum(accuracy + bias, a_min) * scale\n",
    "\n",
    "        neighbor_accuracies = scale_accuracy(self.accuracy[neighbors])\n",
    "        test_accuracy = scale_accuracy(a_test)\n",
    "        colocation_prob = self.prob_overlap_locations(x_test, y_test, self.x[neighbors], self.y[neighbors],\n",
    "                                                      test_accuracy, neighbor_accuracies)\n",
    "\n",
    "        time_of_day_diff = self.time_difference(day_test, self.time_of_day[neighbors], day)\n",
    "        time_of_day_prob = self.prob_overlap_time(time_of_day_diff, self.day_w1, self.day_w2, self.day_mp)\n",
    "\n",
    "        time_of_week_diff = self.time_difference(week_test, self.time_of_week[neighbors], week)\n",
    "        time_of_week_prob = self.prob_overlap_time(time_of_week_diff, self.week_w1, self.week_w2, self.week_mp)\n",
    "\n",
    "        time_diff = self.time_difference(time_test, self.time[neighbors])\n",
    "        time_prob = self.prob_overlap_time(time_diff, self.time_w1, self.time_w2, self.time_mp)\n",
    "\n",
    "        total_prob = ne.evaluate('colocation_prob * time_of_day_prob * time_of_week_prob * time_prob')\n",
    "\n",
    "        s = slice(1,None) if self_validation else slice(0,None) # skip the first neighbor if self validating\n",
    "        self.predictions = np.zeros((len(X),3))\n",
    "        for i, (prob, places) in enumerate(zip(total_prob[:,s], self.place_id[neighbors][:,s])):\n",
    "            # append a few zeros just incase there is only one nearby place\n",
    "            # we need three for the precision calculation\n",
    "            prob, places = self.sum_by_group(np.append(prob, [0,0]), np.append(places, [0,1]))\n",
    "            prob, places = zip(*sorted(zip(prob, places),reverse=True))\n",
    "            self.predictions[i,:] = places[:3]\n",
    "        return self.predictions\n",
    "\n",
    "    def mean_average_precision3(self, true, test):\n",
    "        precision = np.array([1, 1/2, 1/3])\n",
    "        return ne.evaluate('sum((true == test) * precision)') / len(true)\n",
    "    \n",
    "    def fit(self, X_test, y_test):\n",
    "        print(\"fit()\")\n",
    "        \n",
    "        if self.NN is None:\n",
    "            print(\"Setup NearestNeighbors and fit\")\n",
    "            self.NN = NearestNeighbors(n_jobs=-1, algorithm='kd_tree').fit(self.train[:,0:2], self.train[:,4])\n",
    "        \n",
    "        if self.X_test is not X_test or self.y_test is not y_test:\n",
    "            self.neighbors = None\n",
    "            self.X_test = X_test\n",
    "            self.y_test = y_test\n",
    "            \n",
    "        if self.neighbors is None or self.neighbors.shape[1] != self.kNN:\n",
    "            print(\"Find nearest neighbors to test points\")\n",
    "            self.neighbors = self.NN.kneighbors(X_test[:,0:2], n_neighbors=self.kNN,\n",
    "                                                   return_distance=False).astype(np.int32)\n",
    "        print(\"Predict with self validation\")\n",
    "        self.predictions = self.predict_internal(X_test, self.neighbors, self_validation=True)\n",
    "        \n",
    "        return self    \n",
    "    \n",
    "    def predict(self, X):\n",
    "        print(\"predict\")\n",
    "        self.predict_internal(self.X_test, self.neighbors, self_validation=False)\n",
    "        return self.predictions\n",
    "    \n",
    "    def score(self, X=None, y=None, sample_weight=None):\n",
    "        print(\"score()\")\n",
    "        return self.mean_average_precision3(self.y_test.reshape((-1,1)), self.predictions)\n",
    "        "
   ]
  },
  {
   "cell_type": "code",
   "execution_count": 11,
   "metadata": {
    "collapsed": false
   },
   "outputs": [
    {
     "name": "stdout",
     "output_type": "stream",
     "text": [
      "fit()\n",
      "Setup NearestNeighbors and fit\n",
      "Find nearest neighbors to test points\n",
      "Predict with self validation\n",
      "score()\n"
     ]
    },
    {
     "data": {
      "text/plain": [
       "0.57474291666688004"
      ]
     },
     "execution_count": 11,
     "metadata": {},
     "output_type": "execute_result"
    }
   ],
   "source": [
    "# parameters\n",
    "parameters = { 'kNN': 400, \n",
    "               'a_scale': 1,\n",
    "               'a_min': 1,\n",
    "               'a_bias': 0,\n",
    "               'time_model': 'proximity', # or 'histogram'\n",
    "               'day_w1': 0,\n",
    "               'day_w2': 12*hour,\n",
    "               'day_mp': 0,\n",
    "               'week_w1': 0,\n",
    "               'week_w2': 3.5*day,\n",
    "               'week_mp': 0,\n",
    "               'time_w1': 20*week,\n",
    "               'time_w2': 50*week,\n",
    "               'time_mp': 1\n",
    "             }\n",
    "clf = FacebookCheckins(train)\n",
    "clf.fit(X_test, y_test)\n",
    "clf.score()"
   ]
  },
  {
   "cell_type": "code",
   "execution_count": null,
   "metadata": {
    "collapsed": true
   },
   "outputs": [],
   "source": []
  }
 ],
 "metadata": {
  "kernelspec": {
   "display_name": "Python 3",
   "language": "python",
   "name": "python3"
  },
  "language_info": {
   "codemirror_mode": {
    "name": "ipython",
    "version": 3
   },
   "file_extension": ".py",
   "mimetype": "text/x-python",
   "name": "python",
   "nbconvert_exporter": "python",
   "pygments_lexer": "ipython3",
   "version": "3.5.1"
  }
 },
 "nbformat": 4,
 "nbformat_minor": 0
}
