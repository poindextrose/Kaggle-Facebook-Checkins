{
 "cells": [
  {
   "cell_type": "code",
   "execution_count": 3,
   "metadata": {
    "collapsed": false
   },
   "outputs": [
    {
     "name": "stdout",
     "output_type": "stream",
     "text": [
      " 8607231 25821691 351785336 sample_submission.csv\n",
      " 8607231 8607231 273911533 test.csv\n",
      " 29118022 29118022 1268930440 train.csv\n",
      " 46332484 63546944 1894627309 total\n"
     ]
    }
   ],
   "source": [
    "!wc *.csv"
   ]
  },
  {
   "cell_type": "code",
   "execution_count": 4,
   "metadata": {
    "collapsed": false
   },
   "outputs": [
    {
     "name": "stdout",
     "output_type": "stream",
     "text": [
      "row_id,x,y,accuracy,time,place_id\r\n",
      "0,0.7941,9.0809,54,470702,8523065625\r\n",
      "1,5.9567,4.7968,13,186555,1757726713\r\n",
      "2,8.3078,7.0407,74,322648,1137537235\r\n",
      "3,7.3665,2.5165,65,704587,6567393236\r\n",
      "4,4.0961,1.1307,31,472130,7440663949\r\n",
      "5,3.8099,1.9586,75,178065,6289802927\r\n",
      "6,6.3336,4.3720,13,666829,9931249544\r\n",
      "7,5.7409,6.7697,85,369002,5662813655\r\n",
      "8,4.3114,6.9410,3,166384,8471780938\r\n"
     ]
    }
   ],
   "source": [
    "!head train.csv"
   ]
  },
  {
   "cell_type": "code",
   "execution_count": 8,
   "metadata": {
    "collapsed": false
   },
   "outputs": [
    {
     "name": "stdout",
     "output_type": "stream",
     "text": [
      "335M\tsample_submission.csv\r\n",
      "261M\ttest.csv\r\n",
      "1.2G\ttrain.csv\r\n"
     ]
    }
   ],
   "source": [
    "!du -h *.csv"
   ]
  },
  {
   "cell_type": "code",
   "execution_count": 9,
   "metadata": {
    "collapsed": true
   },
   "outputs": [],
   "source": [
    "import pandas as pd"
   ]
  },
  {
   "cell_type": "code",
   "execution_count": 12,
   "metadata": {
    "collapsed": true
   },
   "outputs": [],
   "source": [
    "df = pd.read_csv(\"train.csv\", index_col=\"row_id\")"
   ]
  },
  {
   "cell_type": "code",
   "execution_count": 14,
   "metadata": {
    "collapsed": false
   },
   "outputs": [
    {
     "data": {
      "text/html": [
       "<div>\n",
       "<table border=\"1\" class=\"dataframe\">\n",
       "  <thead>\n",
       "    <tr style=\"text-align: right;\">\n",
       "      <th></th>\n",
       "      <th>x</th>\n",
       "      <th>y</th>\n",
       "      <th>accuracy</th>\n",
       "      <th>time</th>\n",
       "      <th>place_id</th>\n",
       "    </tr>\n",
       "  </thead>\n",
       "  <tbody>\n",
       "    <tr>\n",
       "      <th>count</th>\n",
       "      <td>2.911802e+07</td>\n",
       "      <td>2.911802e+07</td>\n",
       "      <td>2.911802e+07</td>\n",
       "      <td>2.911802e+07</td>\n",
       "      <td>2.911802e+07</td>\n",
       "    </tr>\n",
       "    <tr>\n",
       "      <th>mean</th>\n",
       "      <td>4.999770e+00</td>\n",
       "      <td>5.001814e+00</td>\n",
       "      <td>8.284912e+01</td>\n",
       "      <td>4.170104e+05</td>\n",
       "      <td>5.493787e+09</td>\n",
       "    </tr>\n",
       "    <tr>\n",
       "      <th>std</th>\n",
       "      <td>2.857601e+00</td>\n",
       "      <td>2.887505e+00</td>\n",
       "      <td>1.147518e+02</td>\n",
       "      <td>2.311761e+05</td>\n",
       "      <td>2.611088e+09</td>\n",
       "    </tr>\n",
       "    <tr>\n",
       "      <th>min</th>\n",
       "      <td>0.000000e+00</td>\n",
       "      <td>0.000000e+00</td>\n",
       "      <td>1.000000e+00</td>\n",
       "      <td>1.000000e+00</td>\n",
       "      <td>1.000016e+09</td>\n",
       "    </tr>\n",
       "    <tr>\n",
       "      <th>25%</th>\n",
       "      <td>2.534700e+00</td>\n",
       "      <td>2.496700e+00</td>\n",
       "      <td>2.700000e+01</td>\n",
       "      <td>2.030570e+05</td>\n",
       "      <td>3.222911e+09</td>\n",
       "    </tr>\n",
       "    <tr>\n",
       "      <th>50%</th>\n",
       "      <td>5.009100e+00</td>\n",
       "      <td>4.988300e+00</td>\n",
       "      <td>6.200000e+01</td>\n",
       "      <td>4.339220e+05</td>\n",
       "      <td>5.518573e+09</td>\n",
       "    </tr>\n",
       "    <tr>\n",
       "      <th>75%</th>\n",
       "      <td>7.461400e+00</td>\n",
       "      <td>7.510300e+00</td>\n",
       "      <td>7.500000e+01</td>\n",
       "      <td>6.204910e+05</td>\n",
       "      <td>7.764307e+09</td>\n",
       "    </tr>\n",
       "    <tr>\n",
       "      <th>max</th>\n",
       "      <td>1.000000e+01</td>\n",
       "      <td>1.000000e+01</td>\n",
       "      <td>1.033000e+03</td>\n",
       "      <td>7.862390e+05</td>\n",
       "      <td>9.999932e+09</td>\n",
       "    </tr>\n",
       "  </tbody>\n",
       "</table>\n",
       "</div>"
      ],
      "text/plain": [
       "                  x             y      accuracy          time      place_id\n",
       "count  2.911802e+07  2.911802e+07  2.911802e+07  2.911802e+07  2.911802e+07\n",
       "mean   4.999770e+00  5.001814e+00  8.284912e+01  4.170104e+05  5.493787e+09\n",
       "std    2.857601e+00  2.887505e+00  1.147518e+02  2.311761e+05  2.611088e+09\n",
       "min    0.000000e+00  0.000000e+00  1.000000e+00  1.000000e+00  1.000016e+09\n",
       "25%    2.534700e+00  2.496700e+00  2.700000e+01  2.030570e+05  3.222911e+09\n",
       "50%    5.009100e+00  4.988300e+00  6.200000e+01  4.339220e+05  5.518573e+09\n",
       "75%    7.461400e+00  7.510300e+00  7.500000e+01  6.204910e+05  7.764307e+09\n",
       "max    1.000000e+01  1.000000e+01  1.033000e+03  7.862390e+05  9.999932e+09"
      ]
     },
     "execution_count": 14,
     "metadata": {},
     "output_type": "execute_result"
    }
   ],
   "source": [
    "df.describe()"
   ]
  },
  {
   "cell_type": "markdown",
   "metadata": {},
   "source": [
    "# Initial thoughts\n",
    "Neighest Neighbor approach\n",
    "Possibly custom algorithm, but first need to read up on NN algorithms\n",
    "When considering NN, need to weight contribution somehow by the accuracy of the neighbors. For example, less accurate distant neighbor may have more weight than a more accurate neightbor at the same distance.\n",
    "\n",
    "The cross-validation set should be broken up by places.\n",
    "\n",
    "Each test point will have: x, y, accuracy, and time\n",
    "The set of checkins will have: x, y, accuracy, time, and place\n",
    "Now we make make some relationships between these:\n",
    "* relative distance\n",
    "* probability the distance is consistent given the accuracy of the two\n",
    "* probability the test time is from the distribution of checkin times for place\n",
    "\n",
    "A separate datastructor can characterize the checkin times for each place. Maybe some kind of distribution that we can use to compute the probability mentioned above.\n",
    "\n",
    "Alternative idea:\n",
    "Create a type of heatmap in 3D with dimensions: x, y, & time\n",
    "For each training point, distribute 1 across space and time.\n",
    "Then normalize the heatmap by dividing by the total number of points."
   ]
  },
  {
   "cell_type": "markdown",
   "metadata": {},
   "source": []
  }
 ],
 "metadata": {
  "kernelspec": {
   "display_name": "Python 3",
   "language": "python",
   "name": "python3"
  },
  "language_info": {
   "codemirror_mode": {
    "name": "ipython",
    "version": 3
   },
   "file_extension": ".py",
   "mimetype": "text/x-python",
   "name": "python",
   "nbconvert_exporter": "python",
   "pygments_lexer": "ipython3",
   "version": "3.5.1"
  }
 },
 "nbformat": 4,
 "nbformat_minor": 0
}
